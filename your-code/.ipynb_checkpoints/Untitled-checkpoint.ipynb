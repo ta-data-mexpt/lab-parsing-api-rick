{
 "cells": [
  {
   "cell_type": "code",
   "execution_count": 1,
   "id": "838df1a4-19cb-4a4e-b97d-a3f3fce31ee5",
   "metadata": {},
   "outputs": [],
   "source": [
    "import json\n",
    "import requests\n",
    "import pandas as pd\n",
    "from pandas.io.json import json_normalize"
   ]
  },
  {
   "cell_type": "code",
   "execution_count": null,
   "id": "4a5a9d53-03cb-4275-9894-daea8b5d47ee",
   "metadata": {},
   "outputs": [],
   "source": []
  },
  {
   "cell_type": "code",
   "execution_count": 2,
   "id": "1a057872-e333-472c-bafd-ec6e1394cfcc",
   "metadata": {},
   "outputs": [],
   "source": [
    "url = 'https://rickandmortyapi.com/api/character'"
   ]
  },
  {
   "cell_type": "code",
   "execution_count": 3,
   "id": "c5881217-b7f2-4001-a282-74dd2b1d4d32",
   "metadata": {},
   "outputs": [],
   "source": [
    "res = requests.get(url)"
   ]
  },
  {
   "cell_type": "code",
   "execution_count": 4,
   "id": "5badc6e0-8f43-4847-af2b-657cd2c01149",
   "metadata": {},
   "outputs": [],
   "source": [
    "res_json = res.json()"
   ]
  },
  {
   "cell_type": "code",
   "execution_count": 6,
   "id": "8873a219-197b-445a-9300-e19ab7a98d30",
   "metadata": {},
   "outputs": [
    {
     "data": {
      "text/plain": [
       "2"
      ]
     },
     "execution_count": 6,
     "metadata": {},
     "output_type": "execute_result"
    }
   ],
   "source": [
    "len(res_json)"
   ]
  },
  {
   "cell_type": "code",
   "execution_count": 10,
   "id": "16f67a1a-880c-40a1-b575-9015e923e940",
   "metadata": {},
   "outputs": [
    {
     "name": "stderr",
     "output_type": "stream",
     "text": [
      "C:\\Users\\sistemas\\AppData\\Local\\Temp\\ipykernel_2736\\58831389.py:1: FutureWarning: pandas.io.json.json_normalize is deprecated, use pandas.json_normalize instead.\n",
      "  flattened_data = json_normalize(res_json)\n"
     ]
    }
   ],
   "source": [
    "flattened_data = json_normalize(res_json)"
   ]
  },
  {
   "cell_type": "code",
   "execution_count": 12,
   "id": "7b6eee89-2f4b-4ad6-a39c-41609e578f92",
   "metadata": {},
   "outputs": [
    {
     "ename": "AttributeError",
     "evalue": "'DataFrame' object has no attribute 'id'",
     "output_type": "error",
     "traceback": [
      "\u001b[1;31m---------------------------------------------------------------------------\u001b[0m",
      "\u001b[1;31mAttributeError\u001b[0m                            Traceback (most recent call last)",
      "\u001b[1;32m~\\AppData\\Local\\Temp\\ipykernel_2736\\4145899473.py\u001b[0m in \u001b[0;36m<module>\u001b[1;34m\u001b[0m\n\u001b[1;32m----> 1\u001b[1;33m \u001b[0mflattened_data\u001b[0m\u001b[1;33m.\u001b[0m\u001b[0mid\u001b[0m\u001b[1;33m[\u001b[0m\u001b[1;36m0\u001b[0m\u001b[1;33m]\u001b[0m\u001b[1;33m\u001b[0m\u001b[1;33m\u001b[0m\u001b[0m\n\u001b[0m",
      "\u001b[1;32m~\\anaconda3\\lib\\site-packages\\pandas\\core\\generic.py\u001b[0m in \u001b[0;36m__getattr__\u001b[1;34m(self, name)\u001b[0m\n\u001b[0;32m   5573\u001b[0m         ):\n\u001b[0;32m   5574\u001b[0m             \u001b[1;32mreturn\u001b[0m \u001b[0mself\u001b[0m\u001b[1;33m[\u001b[0m\u001b[0mname\u001b[0m\u001b[1;33m]\u001b[0m\u001b[1;33m\u001b[0m\u001b[1;33m\u001b[0m\u001b[0m\n\u001b[1;32m-> 5575\u001b[1;33m         \u001b[1;32mreturn\u001b[0m \u001b[0mobject\u001b[0m\u001b[1;33m.\u001b[0m\u001b[0m__getattribute__\u001b[0m\u001b[1;33m(\u001b[0m\u001b[0mself\u001b[0m\u001b[1;33m,\u001b[0m \u001b[0mname\u001b[0m\u001b[1;33m)\u001b[0m\u001b[1;33m\u001b[0m\u001b[1;33m\u001b[0m\u001b[0m\n\u001b[0m\u001b[0;32m   5576\u001b[0m \u001b[1;33m\u001b[0m\u001b[0m\n\u001b[0;32m   5577\u001b[0m     \u001b[1;32mdef\u001b[0m \u001b[0m__setattr__\u001b[0m\u001b[1;33m(\u001b[0m\u001b[0mself\u001b[0m\u001b[1;33m,\u001b[0m \u001b[0mname\u001b[0m\u001b[1;33m:\u001b[0m \u001b[0mstr\u001b[0m\u001b[1;33m,\u001b[0m \u001b[0mvalue\u001b[0m\u001b[1;33m)\u001b[0m \u001b[1;33m->\u001b[0m \u001b[1;32mNone\u001b[0m\u001b[1;33m:\u001b[0m\u001b[1;33m\u001b[0m\u001b[1;33m\u001b[0m\u001b[0m\n",
      "\u001b[1;31mAttributeError\u001b[0m: 'DataFrame' object has no attribute 'id'"
     ]
    }
   ],
   "source": [
    "flattened_data.id[0]"
   ]
  },
  {
   "cell_type": "code",
   "execution_count": null,
   "id": "b1adb9e7-ba42-42b5-bf20-fe850071317c",
   "metadata": {},
   "outputs": [],
   "source": [
    "flattened_data1 = json_normalize(flattened_data.articles[0])\n",
    "flattened_data1"
   ]
  },
  {
   "cell_type": "code",
   "execution_count": null,
   "id": "31ff8ca6-d31b-40a2-a775-246e46af22f9",
   "metadata": {},
   "outputs": [],
   "source": []
  },
  {
   "cell_type": "code",
   "execution_count": 2,
   "id": "d29248ac-ab4c-47b7-bf28-5cd2ebb6ad28",
   "metadata": {
    "tags": []
   },
   "outputs": [],
   "source": [
    "url = 'https://rickandmortyapi.com/api/character'"
   ]
  },
  {
   "cell_type": "code",
   "execution_count": 3,
   "id": "198a60c1-5d27-49e5-a602-08d713273b2d",
   "metadata": {},
   "outputs": [
    {
     "data": {
      "text/plain": [
       "'https://rickandmortyapi.com/api/character'"
      ]
     },
     "execution_count": 3,
     "metadata": {},
     "output_type": "execute_result"
    }
   ],
   "source": [
    "url"
   ]
  },
  {
   "cell_type": "code",
   "execution_count": 4,
   "id": "63bfbb2d-ed8a-4f27-ba6b-96c859b21f5d",
   "metadata": {},
   "outputs": [],
   "source": [
    "res = requests.get(url)"
   ]
  },
  {
   "cell_type": "code",
   "execution_count": 5,
   "id": "e36bdc2f-3ca3-496a-b208-6b8f7c63ab0c",
   "metadata": {},
   "outputs": [
    {
     "data": {
      "text/plain": [
       "<Response [200]>"
      ]
     },
     "execution_count": 5,
     "metadata": {},
     "output_type": "execute_result"
    }
   ],
   "source": [
    "res"
   ]
  },
  {
   "cell_type": "code",
   "execution_count": 6,
   "id": "4c8c83c7-899c-4a70-aca7-9dfc41787cc6",
   "metadata": {},
   "outputs": [],
   "source": [
    "res_json = res.json()"
   ]
  },
  {
   "cell_type": "code",
   "execution_count": 7,
   "id": "4c0326ba-6d7a-4a88-a788-85c9d3943fd4",
   "metadata": {
    "tags": []
   },
   "outputs": [
    {
     "data": {
      "text/plain": [
       "2"
      ]
     },
     "execution_count": 7,
     "metadata": {},
     "output_type": "execute_result"
    }
   ],
   "source": [
    "len(res_json)"
   ]
  },
  {
   "cell_type": "code",
   "execution_count": 16,
   "id": "7d69dd57-c100-481a-a97f-2f735ec5ea72",
   "metadata": {},
   "outputs": [
    {
     "name": "stderr",
     "output_type": "stream",
     "text": [
      "C:\\Users\\sistemas\\AppData\\Local\\Temp\\ipykernel_16756\\58831389.py:1: FutureWarning: pandas.io.json.json_normalize is deprecated, use pandas.json_normalize instead.\n",
      "  flattened_data = json_normalize(res_json)\n"
     ]
    }
   ],
   "source": [
    "flattened_data = json_normalize(res_json)"
   ]
  },
  {
   "cell_type": "code",
   "execution_count": 20,
   "id": "e865a497-4581-4475-9239-14d268d3c4af",
   "metadata": {},
   "outputs": [
    {
     "data": {
      "text/plain": [
       "<bound method DataFrame.info of                                              results  info.count  info.pages  \\\n",
       "0  [{'id': 1, 'name': 'Rick Sanchez', 'status': '...         826          42   \n",
       "\n",
       "                                          info.next info.prev  \n",
       "0  https://rickandmortyapi.com/api/character?page=2      None  >"
      ]
     },
     "execution_count": 20,
     "metadata": {},
     "output_type": "execute_result"
    }
   ],
   "source": [
    "flattened_data.info"
   ]
  },
  {
   "cell_type": "code",
   "execution_count": 21,
   "id": "50ccd8fd-1326-4596-8971-b718b21f26c9",
   "metadata": {},
   "outputs": [],
   "source": [
    "url2=\"https://rickandmortyapi.com/api/character?page=2 \""
   ]
  },
  {
   "cell_type": "code",
   "execution_count": 23,
   "id": "8f936ec2-de99-43e1-b1de-ff801d8174e2",
   "metadata": {},
   "outputs": [],
   "source": [
    "res2 = requests.get(url2)"
   ]
  },
  {
   "cell_type": "code",
   "execution_count": 24,
   "id": "a986895e-5ef8-47eb-a93c-d0ce32fab796",
   "metadata": {},
   "outputs": [
    {
     "data": {
      "text/plain": [
       "<Response [200]>"
      ]
     },
     "execution_count": 24,
     "metadata": {},
     "output_type": "execute_result"
    }
   ],
   "source": [
    "res2"
   ]
  },
  {
   "cell_type": "code",
   "execution_count": 25,
   "id": "71442f26-8c02-4723-8c18-8652c1a01682",
   "metadata": {},
   "outputs": [],
   "source": [
    "res2_json = res2.json()"
   ]
  },
  {
   "cell_type": "code",
   "execution_count": 27,
   "id": "7081a1d8-4c9d-45ff-825f-781fa038c849",
   "metadata": {},
   "outputs": [
    {
     "name": "stderr",
     "output_type": "stream",
     "text": [
      "C:\\Users\\sistemas\\AppData\\Local\\Temp\\ipykernel_16756\\3156137387.py:1: FutureWarning: pandas.io.json.json_normalize is deprecated, use pandas.json_normalize instead.\n",
      "  flattened_data2 = json_normalize(res2_json)\n"
     ]
    }
   ],
   "source": [
    "flattened_data2 = json_normalize(res2_json)"
   ]
  },
  {
   "cell_type": "code",
   "execution_count": 28,
   "id": "558e9bb2-deee-4deb-8c20-800ababa473f",
   "metadata": {},
   "outputs": [
    {
     "data": {
      "text/html": [
       "<div>\n",
       "<style scoped>\n",
       "    .dataframe tbody tr th:only-of-type {\n",
       "        vertical-align: middle;\n",
       "    }\n",
       "\n",
       "    .dataframe tbody tr th {\n",
       "        vertical-align: top;\n",
       "    }\n",
       "\n",
       "    .dataframe thead th {\n",
       "        text-align: right;\n",
       "    }\n",
       "</style>\n",
       "<table border=\"1\" class=\"dataframe\">\n",
       "  <thead>\n",
       "    <tr style=\"text-align: right;\">\n",
       "      <th></th>\n",
       "      <th>results</th>\n",
       "      <th>info.count</th>\n",
       "      <th>info.pages</th>\n",
       "      <th>info.next</th>\n",
       "      <th>info.prev</th>\n",
       "    </tr>\n",
       "  </thead>\n",
       "  <tbody>\n",
       "    <tr>\n",
       "      <th>0</th>\n",
       "      <td>[{'id': 21, 'name': 'Aqua Morty', 'status': 'u...</td>\n",
       "      <td>826</td>\n",
       "      <td>42</td>\n",
       "      <td>https://rickandmortyapi.com/api/character?page=3</td>\n",
       "      <td>https://rickandmortyapi.com/api/character?page=1</td>\n",
       "    </tr>\n",
       "  </tbody>\n",
       "</table>\n",
       "</div>"
      ],
      "text/plain": [
       "                                             results  info.count  info.pages  \\\n",
       "0  [{'id': 21, 'name': 'Aqua Morty', 'status': 'u...         826          42   \n",
       "\n",
       "                                          info.next  \\\n",
       "0  https://rickandmortyapi.com/api/character?page=3   \n",
       "\n",
       "                                          info.prev  \n",
       "0  https://rickandmortyapi.com/api/character?page=1  "
      ]
     },
     "execution_count": 28,
     "metadata": {},
     "output_type": "execute_result"
    }
   ],
   "source": [
    "flattened_data2"
   ]
  },
  {
   "cell_type": "code",
   "execution_count": 30,
   "id": "c43bd327-87c3-4dbe-967e-9d54dbb2e7a0",
   "metadata": {},
   "outputs": [
    {
     "data": {
      "text/plain": [
       "0    [{'id': 21, 'name': 'Aqua Morty', 'status': 'u...\n",
       "Name: results, dtype: object"
      ]
     },
     "execution_count": 30,
     "metadata": {},
     "output_type": "execute_result"
    }
   ],
   "source": [
    "flattened_data2.results"
   ]
  },
  {
   "cell_type": "code",
   "execution_count": 31,
   "id": "9a49c9e2-8915-4eea-87a9-19afbfc16669",
   "metadata": {},
   "outputs": [
    {
     "data": {
      "text/plain": [
       "<bound method DataFrame.info of                                              results  info.count  info.pages  \\\n",
       "0  [{'id': 21, 'name': 'Aqua Morty', 'status': 'u...         826          42   \n",
       "\n",
       "                                          info.next  \\\n",
       "0  https://rickandmortyapi.com/api/character?page=3   \n",
       "\n",
       "                                          info.prev  \n",
       "0  https://rickandmortyapi.com/api/character?page=1  >"
      ]
     },
     "execution_count": 31,
     "metadata": {},
     "output_type": "execute_result"
    }
   ],
   "source": [
    "flattened_data2.info"
   ]
  },
  {
   "cell_type": "code",
   "execution_count": null,
   "id": "4291fed8-e7da-4000-b6ea-7011dcf7c03f",
   "metadata": {},
   "outputs": [],
   "source": []
  }
 ],
 "metadata": {
  "kernelspec": {
   "display_name": "Python 3 (ipykernel)",
   "language": "python",
   "name": "python3"
  },
  "language_info": {
   "codemirror_mode": {
    "name": "ipython",
    "version": 3
   },
   "file_extension": ".py",
   "mimetype": "text/x-python",
   "name": "python",
   "nbconvert_exporter": "python",
   "pygments_lexer": "ipython3",
   "version": "3.9.13"
  }
 },
 "nbformat": 4,
 "nbformat_minor": 5
}
